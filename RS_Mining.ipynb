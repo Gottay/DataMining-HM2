{
 "cells": [
  {
   "cell_type": "markdown",
   "metadata": {},
   "source": [
    "#选择1个数据集进行频繁模式和关联规则挖掘\n",
    "\n",
    "##分析报告\n",
    "\n",
    "###一、数据\n",
    "\n",
    "####1.1 数据集选择 Wine Reviews：winemag-data-130k-v2.csv 数据集包括（国家，酒的评分）\n",
    "\n",
    "####1.2 编程语言：python"
   ]
  },
  {
   "cell_type": "markdown",
   "metadata": {},
   "source": [
    "####1.3 导入所需各类依赖包"
   ]
  },
  {
   "cell_type": "code",
   "execution_count": 115,
   "metadata": {},
   "outputs": [],
   "source": [
    "import csv\n",
    "import matplotlib.pyplot as plt\n",
    "import numpy as np\n",
    "import pandas as pd\n",
    "lift =[]\n",
    "KULC =[]\n",
    "IR = []\n",
    "support = []"
   ]
  },
  {
   "cell_type": "markdown",
   "metadata": {},
   "source": [
    "###二、数据分析要求\n",
    "####2.1 对数据集进行处理，转换成适合进行关联规则挖掘的形式"
   ]
  },
  {
   "cell_type": "markdown",
   "metadata": {},
   "source": [
    "加载数据集, 对于该数据集由于其他的标称属性值都比较独特，这里我们选取标称属性country和数值属性points为例做分析\n",
    "<p> 对于points我们做了如下处理，我们将酒的评分分为了5级：\n",
    "    <p>0：0-19分 1：20-39分 2：40-59分 3：60-79分 4：80-99分"
   ]
  },
  {
   "cell_type": "code",
   "execution_count": 116,
   "metadata": {},
   "outputs": [],
   "source": [
    "def load_data_set():\n",
    "    csv_file = csv.reader(open('winemag-data-130k-v2.csv', encoding='utf-8')) #读取数据集\n",
    "    for row in csv_file:\n",
    "        llist = []\n",
    "        if(row[4] == 'points'): #对数据集进行处理（选取points和country为例）\n",
    "            continue\n",
    "        if(row[1] != \"\"):\n",
    "            llist.append(row[1])\n",
    "            if(row[4] != \"\"):\n",
    "                llist.append(int(float(row[4])/20)) #对points进行分级\n",
    "        data_set.append(llist)\n",
    "    return data_set"
   ]
  },
  {
   "cell_type": "markdown",
   "metadata": {},
   "source": [
    "####2.2 找出频繁模式\n",
    "<p>这里使用frozenset不可变集合是为了后续计算支持度字典是将集合作为键。\n",
    "<p>输出为所有的1-项集"
   ]
  },
  {
   "cell_type": "code",
   "execution_count": 117,
   "metadata": {
    "scrolled": true
   },
   "outputs": [
    {
     "name": "stdout",
     "output_type": "stream",
     "text": [
      "{frozenset({'Peru'}), frozenset({'England'}), frozenset({'Macedonia'}), frozenset({'Slovakia'}), frozenset({'Romania'}), frozenset({'Croatia'}), frozenset({'Austria'}), frozenset({'Australia'}), frozenset({'Hungary'}), frozenset({'Bulgaria'}), frozenset({'Slovenia'}), frozenset({'Spain'}), frozenset({'South Africa'}), frozenset({'Luxembourg'}), frozenset({'Germany'}), frozenset({'France'}), frozenset({'Georgia'}), frozenset({'Ukraine'}), frozenset({'India'}), frozenset({'Uruguay'}), frozenset({'Moldova'}), frozenset({'Armenia'}), frozenset({'Cyprus'}), frozenset({'Bosnia and Herzegovina'}), frozenset({'Czech Republic'}), frozenset({'Lebanon'}), frozenset({'Chile'}), frozenset({'Morocco'}), frozenset({'Turkey'}), frozenset({'Italy'}), frozenset({5}), frozenset({4}), frozenset({'Canada'}), frozenset({'Argentina'}), frozenset({'Switzerland'}), frozenset({'Egypt'}), frozenset({'Greece'}), frozenset({'Serbia'}), frozenset({'US'}), frozenset({'Brazil'}), frozenset({'Israel'}), frozenset({'Portugal'}), frozenset({'China'}), frozenset({'New Zealand'}), frozenset({'Mexico'})}\n"
     ]
    }
   ],
   "source": [
    "# 通过扫描数据集创建候选1-项集C1\n",
    "def create_C1(data_set):\n",
    "    C1 = set()\n",
    "    for t in data_set:\n",
    "        for item in t:\n",
    "            item_set = frozenset([item])\n",
    "            C1.add(item_set)\n",
    "    return C1\n",
    "\n",
    "data_set = []\n",
    "data_set = load_data_set()\n",
    "print(create_C1(data_set))"
   ]
  },
  {
   "cell_type": "markdown",
   "metadata": {},
   "source": [
    "<p>这里使用Apriori属性即先验剪枝原则：任一频繁项的所有非空子集也必须是频繁的。也就是当生成k项候选集的时候，如果候选集中的元素不在k-1项频繁集中，则该元素一定不是频繁集，这个时候不需要计算支持度，直接去除即可。"
   ]
  },
  {
   "cell_type": "code",
   "execution_count": 118,
   "metadata": {},
   "outputs": [],
   "source": [
    "# 判断常用候选k项集是否满足Apriori属性\n",
    "def is_apriori(Ck_item, Lksub1):\n",
    "    for item in Ck_item:\n",
    "        sub_Ck = Ck_item - frozenset([item])\n",
    "        if sub_Ck not in Lksub1:\n",
    "            return False\n",
    "    return True"
   ]
  },
  {
   "cell_type": "markdown",
   "metadata": {},
   "source": [
    "<p>** 连接定理 **\n",
    "<P>若有两个k-1项集，每个项集按照“属性-值”（一般按值）的字母顺序进行排序。如果两个k-1项集的前k-2个项相同，而最后一个项不同，则证明它们是可连接的，即这个k-1项集可以联姻，即可连接生成k项集。例如有两个3项集：{a, b, c} {a, b, d}，这两个3项集就是可连接的，它们可以连接生成4项集｛a, b, c, d｝。又如两个3项集｛a, b, c｝｛a, d, e｝，这两个3项集显示是不能连接生成3项集的。\n",
    "<p>为了寻找频繁k项集，首先生成一个潜在频繁k项集构成的候选项集：\n",
    "<p>1、从2项集开始循环，由频繁k-1项集生成频繁频繁k项集。频繁k-1项集生成2项子集，这里的2项指的生成的子集中有两个k-1项集。例如有3个2项频繁集｛a, b｝｛b, c｝｛c, f｝，则它所有的2项子集为{{a, b} {b, c}} {{a, b} {e, f}} {{b, c} {c, f}}\n",
    "<p>2、对上述生成的2项子集中的两个项集根据连接定理进行连接，生成k项集。接着对k项集中的每个项集根据上述的Apriori属性舍弃掉子集不是频繁项集即不在频繁k-1项集中的项集。\n",
    "    \n",
    "<p>由于连接步生成的Ck是Lk的超集，包含所有的频繁项集Lk，同时也可能包含一些非频繁项集。可以利用前述Apriori属性行剪枝以压缩数据规模。比如，如果候选k项集Ck的k-1项子集不在Lk-1中，那么该子集不可能是频繁项集，可以直接删除。\n"
   ]
  },
  {
   "cell_type": "code",
   "execution_count": 119,
   "metadata": {},
   "outputs": [],
   "source": [
    "# 创建ck，一个包含所有常见的候选k项集的集合\n",
    "def create_Ck(Lksub1, k):\n",
    "    Ck = set()\n",
    "    len_Lksub1 = len(Lksub1)\n",
    "    list_Lksub1 = list(Lksub1)\n",
    "    for i in range(len_Lksub1):\n",
    "        for j in range(1, len_Lksub1):\n",
    "            l1 = list(list_Lksub1[i])\n",
    "            l2 = list(list_Lksub1[j])\n",
    "            l1.sort()\n",
    "            l2.sort()\n",
    "            if l1[0:k-2] == l2[0:k-2]:\n",
    "                Ck_item = list_Lksub1[i] | list_Lksub1[j]\n",
    "                # pruning(剪枝)\n",
    "                if is_apriori(Ck_item, Lksub1):\n",
    "                    Ck.add(Ck_item)\n",
    "    return Ck"
   ]
  },
  {
   "cell_type": "markdown",
   "metadata": {},
   "source": [
    "<p>** 从候选项集中选出频繁项集 **\n",
    "    <p>扫描数据库，计算上述第2步中过滤后的k项集的支持度，舍弃掉支持度小于阈值的项集，生成频繁k项集。\n",
    "    <p>我们需要从初始的候选项集中计算k项频繁项集，所以这里封装函数用于每次计算频繁项集及支持度，当候选项集中集合中的每个元素都存在事务记录集合中是计数并保存到字典中，计算支持度后输出频繁项集和支持度。"
   ]
  },
  {
   "cell_type": "code",
   "execution_count": 120,
   "metadata": {},
   "outputs": [],
   "source": [
    "# 通过从ck执行删除策略生成Lk。\n",
    "def generate_Lk_by_Ck(data_set, Ck, min_support, support_data):\n",
    "    Lk = set()\n",
    "    item_count = {}\n",
    "    for t in data_set:\n",
    "        for item in Ck:\n",
    "            if item.issubset(t):\n",
    "                if item not in item_count:\n",
    "                    item_count[item] = 1\n",
    "                else:\n",
    "                    item_count[item] += 1\n",
    "    t_num = float(len(data_set))\n",
    "    for item in item_count:\n",
    "        if (item_count[item] / t_num) >= min_support:\n",
    "            Lk.add(item)\n",
    "            support_data[item] = item_count[item] / t_num\n",
    "    return Lk"
   ]
  },
  {
   "cell_type": "code",
   "execution_count": 121,
   "metadata": {},
   "outputs": [],
   "source": [
    "# 生成所有频繁项集\n",
    "def generate_L(data_set, k, min_support):\n",
    "    support_data = {}\n",
    "    C1 = create_C1(data_set)\n",
    "    L1 = generate_Lk_by_Ck(data_set, C1, min_support, support_data)\n",
    "    Lksub1 = L1.copy()\n",
    "    L = []\n",
    "    L.append(Lksub1)\n",
    "    for i in range(2, k+1):\n",
    "        Ci = create_Ck(Lksub1, i)\n",
    "        Li = generate_Lk_by_Ck(data_set, Ci, min_support, support_data)\n",
    "        Lksub1 = Li.copy()\n",
    "        L.append(Lksub1)\n",
    "    return L, support_data"
   ]
  },
  {
   "cell_type": "markdown",
   "metadata": {},
   "source": [
    "####2.3 生成关联规则，计算其支持度和置信度（关联规则导出见后序代码）\n",
    "<p>生成关联规则，筛选符合规则的频繁集计算置信度，满足最小置信度的关联规则添加到列表\n",
    "####2.4 对规则进行评价，可使用Lift、卡方和其它教材中提及的指标, 至少2种\n",
    "<p>这里采用了3中评价指标分别是：Lift、KULC、IR"
   ]
  },
  {
   "cell_type": "code",
   "execution_count": 122,
   "metadata": {},
   "outputs": [],
   "source": [
    "# 生成关联规则并通过三种方法对关联规则进行评估\n",
    "def generate_big_rules(L, support_data, min_conf):\n",
    "    big_rule_list = []\n",
    "    sub_set_list = []\n",
    "    for i in range(0, len(L)):\n",
    "        for freq_set in L[i]:\n",
    "            for sub_set in sub_set_list:\n",
    "                if sub_set.issubset(freq_set):\n",
    "                    conf = support_data[freq_set] / support_data[freq_set - sub_set]\n",
    "                    big_rule = (freq_set - sub_set, sub_set, conf)\n",
    "                    if conf >= min_conf and big_rule not in big_rule_list:\n",
    "                        lift.append(support_data[freq_set]/(support_data[sub_set]*support_data[freq_set-sub_set]))\n",
    "                        KULC.append((support_data[freq_set]/support_data[sub_set]+support_data[freq_set]/support_data[freq_set-sub_set])/2)\n",
    "                        IR.append((support_data[freq_set]/support_data[freq_set-sub_set])/support_data[freq_set]/support_data[sub_set])\n",
    "                        big_rule_list.append(big_rule)\n",
    "            sub_set_list.append(freq_set)\n",
    "    return big_rule_list\n"
   ]
  },
  {
   "cell_type": "markdown",
   "metadata": {},
   "source": [
    "<p>** 主函数 **\n",
    "<p>打印所有的频繁项集及其支持度值"
   ]
  },
  {
   "cell_type": "code",
   "execution_count": 123,
   "metadata": {},
   "outputs": [],
   "source": [
    "#主函数\n",
    "if __name__ == \"__main__\":\n",
    "    conf_set = []\n",
    "    support_set = []\n",
    "    data_set = []\n",
    "    data_set = load_data_set()"
   ]
  },
  {
   "cell_type": "code",
   "execution_count": 124,
   "metadata": {},
   "outputs": [
    {
     "name": "stdout",
     "output_type": "stream",
     "text": [
      "**************************************************\n",
      "frequent 1-itemsets\t\tsupport\n",
      "**************************************************\n",
      "frozenset({'Spain'})\t0.05112678982234498\n",
      "frozenset({'Italy'})\t0.15034122996668486\n",
      "frozenset({'France'})\t0.16998407337021335\n",
      "frozenset({'US'})\t0.41935508690400164\n",
      "frozenset({4})\t0.9993690900277754\n",
      "**************************************************\n",
      "frequent 2-itemsets\t\tsupport\n",
      "**************************************************\n",
      "frozenset({'France', 4})\t0.1699225211778012\n",
      "frozenset({'US', 4})\t0.4193243108077956\n",
      "frozenset({4, 'Spain'})\t0.05112678982234498\n",
      "frozenset({4, 'Italy'})\t0.1503104538704788\n"
     ]
    }
   ],
   "source": [
    "    #这里给出最小支持度为0.05，最小置信度为0.7\n",
    "    L, support_data = generate_L(data_set, k=2, min_support=0.05)\n",
    "    big_rules_list = generate_big_rules(L, support_data, min_conf=0.7)\n",
    "    for Lk in L:\n",
    "        print(\"*\" * 50)\n",
    "        print(\"frequent \" + str(len(list(Lk)[0])) + \"-itemsets\\t\\tsupport\")\n",
    "        print(\"*\" * 50)\n",
    "        for freq_set in Lk:\n",
    "            print(str(freq_set) + \"\\t\" + str(support_data[freq_set]))"
   ]
  },
  {
   "cell_type": "markdown",
   "metadata": {},
   "source": [
    "<p>打印关联规则及对规则的各评价结果, 结果输出到txt文件中"
   ]
  },
  {
   "cell_type": "code",
   "execution_count": 125,
   "metadata": {},
   "outputs": [
    {
     "name": "stdout",
     "output_type": "stream",
     "text": [
      "**************************************************\n",
      "\t\tBig Rules\n",
      "**************************************************\n",
      "frozenset({'France'}) => frozenset({4}) conf:  0.9996378943556784\n",
      "lift： 1.0002689740262984\n",
      "KULC： 0.5848338445132564\n",
      "IR： 5.886618013274712\n",
      "frozenset({'US'}) => frozenset({4}) conf:  0.9999266108909438\n",
      "lift： 1.0005578728307005\n",
      "KULC： 0.7097578223021727\n",
      "IR： 2.386119399810623\n",
      "frozenset({'Spain'}) => frozenset({4}) conf:  1.0\n",
      "lift： 1.0006313082709082\n",
      "KULC： 0.5255795332938125\n",
      "IR： 19.571565352487315\n",
      "frozenset({'Italy'}) => frozenset({4}) conf:  0.9997952917093144\n",
      "lift： 1.0004264707461856\n",
      "KULC： 0.5751003189062628\n",
      "IR： 6.655734481436961\n"
     ]
    }
   ],
   "source": [
    "    # 打印(生成generate_rule.txt)关联规则及对规则的各评价结果\n",
    "    print(\"*\" * 50)\n",
    "    print(\"\\t\\tBig Rules\")\n",
    "    print(\"*\" * 50)\n",
    "    i = 0\n",
    "    \n",
    "    file = open(\"generate_rules.txt\", \"a\", encoding=\"utf-8\")\n",
    "    for item in big_rules_list:\n",
    "        print(item[0], \"=>\", item[1], \"conf: \", item[2])\n",
    "        file.write(str(item[0]) + \" => \" + str(item[1]) + \" conf: \" + str(item[2]) + '\\n')\n",
    "        # 取出频繁2项集confidence集\n",
    "        conf_set.append(item[2])\n",
    "        print(\"lift：\", lift[i])\n",
    "        file.write(\"lift：\" + str(lift[i]) + '\\n')\n",
    "        print(\"KULC：\", KULC[i])\n",
    "        file.write(\"KULC：\" + str(KULC[i]) + '\\n')\n",
    "        print(\"IR：\", IR[i])\n",
    "        file.write(\"IR：\" + str(IR[i]) + '\\n')\n",
    "        i = i+1\n",
    "    file.close()"
   ]
  },
  {
   "cell_type": "markdown",
   "metadata": {},
   "source": [
    "####2.5 对挖掘结果进行分析\n",
    "<p>** 对上述关联规则评价 **\n",
    "    \n",
    "<p>1、Lift评价指标公式为：P(B|A)/P(B)\n",
    "    <p>称为A条件对于B事件的提升度，如果该值=1，说明两个条件没有任何关联；如果<1，说明A条件(或者说A事件的发生)与B事件是相斥的；>1说明有效，在事件A发生时事件B发生，比直接推荐事件B，效果更好；但是一般在数据挖掘中当提升度大于3时，我们才承认挖掘出的关联规则是有价值的，所以由上述得到的Lift值可以看出：对于红酒的产国为：France、US、Spain、Italy时可以得到红酒的评分为4等级即80-99分这一关联是成立的。\n",
    "        \n",
    "<p>提升度是一种比较简单地判断手段，在实际应用中它受零事务的影响较大，零事务在本例中可以理解为既不知道红酒产国也不知道其评分的事务，在现实中,这个值往往其实是很大的。如果保持其他数据不变，把事务总数扩大，那么计算出的提升度就会明显增大，此时的零事务也会很大，可见提升度是与零事务有关的。\n",
    "<p>因此** 根据教材中说法，常用的评价方法除了提升度外，还可以使用 KULC度量 + 不平衡比(IR)。这一方法可以有效的降低零事务造成的影响。 \n",
    "<p>2、KULC评价指标公式为：0.5*P(B|A)+0.5*P(A|B)\n",
    "该公式表示将两种事件作为条件的置信度的均值，避开了支持度的计算，因此不会受零和事务的影响。其取值为0-1之间，值越大说明两者相关性越大。 \n",
    "<p>3、IR评价指标公式为：P(B|A)/P(A|B) 指示事务的关联关系平衡状态\n",
    "<p>根据** KULC度量 + 不平衡比(IR) **可以看出\n",
    "   <p>KULC值从大到小依次为：frozenset({'US'}) => frozenset({4}) > frozenset({'France'}) => frozenset({4}) > frozenset({'Italy'}) => frozenset({4}) > frozenset({'Spain'}) => frozenset({4})\n",
    "   <p>也就是说红酒产国为US的红酒评分的80-99的相关性最高\n",
    "   <p>IR值从大到小依次为：frozenset({'Spain'}) => frozenset({4}) > frozenset({'Italy'}) => frozenset({4}) > frozenset({'France'}) => frozenset({4}) > frozenset({'US'}) => frozenset({4})\n",
    "   <p>从结果可以看出，frozenset({'US'}) => frozenset({4})是最平衡的，也就是说红酒产国为US可以推出红酒评分为80-99的相关性且红酒评分为80-99分也可以推出红酒产国为US；而对于frozenset({'Spain'}) => frozenset({4})是相当不平衡的，IR值为19.57。"
   ]
  },
  {
   "cell_type": "markdown",
   "metadata": {},
   "source": [
    "####2.6 对挖掘结果可视化\n",
    "<p>** 1、画出红酒产国与红酒评分的分别的频率直方图 **"
   ]
  },
  {
   "cell_type": "code",
   "execution_count": 126,
   "metadata": {},
   "outputs": [
    {
     "data": {
      "image/png": "[encoded data removed]",
      "text/plain": [
       "<Figure size 432x288 with 1 Axes>"
      ]
     },
     "metadata": {
      "needs_background": "light"
     },
     "output_type": "display_data"
    }
   ],
   "source": [
    "    #数据读取\n",
    "    wine = pd.DataFrame(pd.read_csv('winemag-data-130k-v2.csv'))\n",
    "    \n",
    "    #country属性直方图\n",
    "    plt.hist(x=wine['country'].dropna(), bins=50, edgecolor='black')\n",
    "    # 添加x轴和y轴标签\n",
    "    plt.xlabel('country')\n",
    "    plt.ylabel('frequency')\n",
    "    # 添加标题\n",
    "    plt.title('Wine-Country distribution')\n",
    "    plt.xticks(rotation=90)\n",
    "    plt.tick_params(labelsize=6)\n",
    "    plt.show()"
   ]
  },
  {
   "cell_type": "code",
   "execution_count": 127,
   "metadata": {
    "scrolled": true
   },
   "outputs": [
    {
     "data": {
      "image/png": "[encoded data removed]",
      "text/plain": [
       "<Figure size 432x288 with 1 Axes>"
      ]
     },
     "metadata": {
      "needs_background": "light"
     },
     "output_type": "display_data"
    }
   ],
   "source": [
    "    #points属性直方图\n",
    "    plt.hist(x=wine['points'], bins=100, edgecolor='black')\n",
    "    # 添加x轴和y轴标签\n",
    "    plt.xlabel('points')\n",
    "    plt.ylabel('frequency')\n",
    "    # 添加标题\n",
    "    plt.title('Wine-Points distribution')\n",
    "    plt.show()"
   ]
  },
  {
   "cell_type": "markdown",
   "metadata": {},
   "source": [
    "<p>** 2、画出红酒产国与红酒评分散点图 **"
   ]
  },
  {
   "cell_type": "code",
   "execution_count": 128,
   "metadata": {
    "scrolled": true
   },
   "outputs": [
    {
     "data": {
      "image/png": "[encoded data removed]",
      "text/plain": [
       "<Figure size 432x288 with 1 Axes>"
      ]
     },
     "metadata": {
      "needs_background": "light"
     },
     "output_type": "display_data"
    }
   ],
   "source": [
    "    csv_file = csv.reader(open('winemag-data-130k-v2.csv', encoding='utf-8')) #读取数据集\n",
    "    country = []\n",
    "    points = []\n",
    "    for row in csv_file:\n",
    "        if(row[1] != \"\"):\n",
    "            country.append(row[1])\n",
    "            if(row[4] != \"\"):\n",
    "                points.append(row[4])\n",
    "    plt.title(\"Country&Points - Scatter\")\n",
    "    plt.xlabel('country')\n",
    "    plt.xticks(rotation=90)\n",
    "    plt.tick_params(labelsize=6)\n",
    "    plt.ylabel('points')\n",
    "    plt.scatter(country, points, s=20, c=\"#ff1212\", marker='o')\n",
    "    plt.show()"
   ]
  },
  {
   "cell_type": "markdown",
   "metadata": {},
   "source": [
    "<p>** 3、（红酒产国及评分的）support和confidence散点图 **"
   ]
  },
  {
   "cell_type": "code",
   "execution_count": 129,
   "metadata": {},
   "outputs": [
    {
     "data": {
      "image/png": "[encoded data removed]",
      "text/plain": [
       "<Figure size 432x288 with 1 Axes>"
      ]
     },
     "metadata": {
      "needs_background": "light"
     },
     "output_type": "display_data"
    }
   ],
   "source": [
    "    # 取出频繁2项集support值\n",
    "    for Lk in L:\n",
    "        if (str(len(list(Lk)[0])) == '2'):\n",
    "            for freq_set in Lk:\n",
    "                support_set.append(support_data[freq_set])\n",
    "                \n",
    "    # 画（酒国家及酒评分的）support和confidence散点图\n",
    "    plt.title(\"Country&Points - Wine\")\n",
    "    plt.xlabel('support')\n",
    "    plt.ylabel('confidence')\n",
    "    plt.scatter(support_set, conf_set, s=20, c=\"#ff1212\", marker='o')\n",
    "    plt.show()"
   ]
  },
  {
   "cell_type": "markdown",
   "metadata": {},
   "source": [
    "<p>** 4-1、Lift评估结果与support散点图 **"
   ]
  },
  {
   "cell_type": "code",
   "execution_count": 130,
   "metadata": {},
   "outputs": [
    {
     "data": {
      "image/png": "[encoded data removed]",
      "text/plain": [
       "<Figure size 432x288 with 1 Axes>"
      ]
     },
     "metadata": {
      "needs_background": "light"
     },
     "output_type": "display_data"
    }
   ],
   "source": [
    "    plt.title(\"Lift & Support\")\n",
    "    plt.xlabel('support')\n",
    "    plt.ylabel('Lift')\n",
    "    plt.scatter(support_set, lift, s=20, c=\"#ff1212\", marker='o')\n",
    "    plt.show()"
   ]
  },
  {
   "cell_type": "markdown",
   "metadata": {},
   "source": [
    "<p>** 4-2、Lift评估结果与confidence散点图 **"
   ]
  },
  {
   "cell_type": "code",
   "execution_count": 131,
   "metadata": {},
   "outputs": [
    {
     "data": {
      "image/png": "[encoded data removed]",
      "text/plain": [
       "<Figure size 432x288 with 1 Axes>"
      ]
     },
     "metadata": {
      "needs_background": "light"
     },
     "output_type": "display_data"
    }
   ],
   "source": [
    "    # Lift评估结果与confidence散点图\n",
    "    plt.title(\"Lift & Confidence\")\n",
    "    plt.xlabel('confidence')\n",
    "    plt.ylabel('Lift')\n",
    "    plt.scatter(conf_set, lift, s=20, c=\"#B9D3EE\", marker='o')\n",
    "    plt.show()"
   ]
  },
  {
   "cell_type": "markdown",
   "metadata": {},
   "source": [
    "<p>** 5-1、KULC评估结果与support散点图 **"
   ]
  },
  {
   "cell_type": "code",
   "execution_count": 132,
   "metadata": {},
   "outputs": [
    {
     "data": {
      "image/png": "[encoded data removed]",
      "text/plain": [
       "<Figure size 432x288 with 1 Axes>"
      ]
     },
     "metadata": {
      "needs_background": "light"
     },
     "output_type": "display_data"
    }
   ],
   "source": [
    "    # KULC评估结果与support散点图\n",
    "    plt.title(\"KULC & Support\")\n",
    "    plt.xlabel('support')\n",
    "    plt.ylabel('KULC')\n",
    "    plt.scatter(support_set, KULC, s=20, c=\"#ff1212\", marker='o')\n",
    "    plt.show()"
   ]
  },
  {
   "cell_type": "markdown",
   "metadata": {},
   "source": [
    "<p>** 5-2、KULC评估结果与confidence散点图 **"
   ]
  },
  {
   "cell_type": "code",
   "execution_count": 133,
   "metadata": {},
   "outputs": [
    {
     "data": {
      "image/png": "[encoded data removed]",
      "text/plain": [
       "<Figure size 432x288 with 1 Axes>"
      ]
     },
     "metadata": {
      "needs_background": "light"
     },
     "output_type": "display_data"
    }
   ],
   "source": [
    "    # KULC评估结果与confidence散点图\n",
    "    plt.title(\"KULC & Confidence\")\n",
    "    plt.xlabel('confidence')\n",
    "    plt.ylabel('KULC')\n",
    "    plt.scatter(conf_set, KULC, s=20, c=\"#B9D3EE\", marker='o')\n",
    "    plt.show()"
   ]
  },
  {
   "cell_type": "markdown",
   "metadata": {},
   "source": [
    "<p>** 6-1、IR评估结果与support散点图 **"
   ]
  },
  {
   "cell_type": "code",
   "execution_count": 134,
   "metadata": {},
   "outputs": [
    {
     "data": {
      "image/png": "[encoded data removed]",
      "text/plain": [
       "<Figure size 432x288 with 1 Axes>"
      ]
     },
     "metadata": {
      "needs_background": "light"
     },
     "output_type": "display_data"
    }
   ],
   "source": [
    "    # IR评估结果与support散点图\n",
    "    plt.title(\"IR & Support\")\n",
    "    plt.xlabel('support')\n",
    "    plt.ylabel('IR')\n",
    "    plt.scatter(support_set, IR, s=20, c=\"#ff1212\", marker='o')\n",
    "    plt.show()"
   ]
  },
  {
   "cell_type": "markdown",
   "metadata": {},
   "source": [
    "<p>** 6-2、IR评估结果与confidence散点图 **"
   ]
  },
  {
   "cell_type": "code",
   "execution_count": 135,
   "metadata": {},
   "outputs": [
    {
     "data": {
      "image/png": "[encoded data removed]",
      "text/plain": [
       "<Figure size 432x288 with 1 Axes>"
      ]
     },
     "metadata": {
      "needs_background": "light"
     },
     "output_type": "display_data"
    }
   ],
   "source": [
    "    # IR评估结果与confidence散点图\n",
    "    plt.title(\"IR & Confidence\")\n",
    "    plt.xlabel('confidence')\n",
    "    plt.ylabel('IR')\n",
    "    plt.scatter(conf_set, IR, s=20, c=\"#B9D3EE\", marker='o')\n",
    "    plt.show()"
   ]
  },
  {
   "cell_type": "markdown",
   "metadata": {},
   "source": [
    "<p>** 7、支持度、置信度、关联规则评价结果直方图 **"
   ]
  },
  {
   "cell_type": "code",
   "execution_count": 136,
   "metadata": {},
   "outputs": [
    {
     "data": {
      "image/png": "[encoded data removed]",
      "text/plain": [
       "<Figure size 432x288 with 1 Axes>"
      ]
     },
     "metadata": {
      "needs_background": "light"
     },
     "output_type": "display_data"
    }
   ],
   "source": [
    "    # 支持度、置信度、关联规则评价结果直方图\n",
    "    name_list = ['Italy =>4', 'US => 4', 'France => 4', 'Spain => 4']\n",
    "    total_width, n = 0.4, 5\n",
    "    width = total_width / n\n",
    "    x = list(range(len(support_set)))\n",
    "    plt.bar(x, support_set, width=width, label=\"support\", fc='y')\n",
    "    for i in range(len(x)):\n",
    "        x[i] = x[i] + width\n",
    "    plt.bar(x, conf_set, width=width, label=\"confidence\", fc='purple')\n",
    "    for i in range(len(x)):\n",
    "        x[i] = x[i] + width\n",
    "    plt.bar(x, lift, width=width, label=\"lift\", fc='r', tick_label=name_list)\n",
    "    for i in range(len(x)):\n",
    "        x[i] = x[i] + width\n",
    "    plt.bar(x, KULC, width=width, label=\"KULC\", fc='blue')\n",
    "    for i in range(len(x)):\n",
    "        x[i] = x[i] + width\n",
    "    plt.bar(x, IR, width=width, label=\"IR\", fc='g')\n",
    "    plt.legend()\n",
    "    plt.show()\n"
   ]
  }
 ],
 "metadata": {
  "kernelspec": {
   "display_name": "Python 3",
   "language": "python",
   "name": "python3"
  },
  "language_info": {
   "codemirror_mode": {
    "name": "ipython",
    "version": 3
   },
   "file_extension": ".py",
   "mimetype": "text/x-python",
   "name": "python",
   "nbconvert_exporter": "python",
   "pygments_lexer": "ipython3",
   "version": "3.7.7"
  }
 },
 "nbformat": 4,
 "nbformat_minor": 4
}
